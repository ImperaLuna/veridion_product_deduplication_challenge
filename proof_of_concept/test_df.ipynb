{
 "cells": [
  {
   "cell_type": "code",
   "id": "initial_id",
   "metadata": {
    "collapsed": true,
    "ExecuteTime": {
     "end_time": "2025-03-16T15:51:11.277421Z",
     "start_time": "2025-03-16T15:51:11.010221Z"
    }
   },
   "source": [
    "import pandas as pd\n",
    "from src.path import DataPaths\n",
    "from tools.type_check import print_detailed_info\n",
    "\n",
    "from main import optimized_merge\n",
    "from src.process_columns import clean_columns\n",
    "\n",
    "df_test = pd.read_parquet(DataPaths.test_parquet)\n",
    "df_original = pd.read_parquet(DataPaths.file_parquet_original)"
   ],
   "outputs": [],
   "execution_count": 5
  },
  {
   "metadata": {
    "ExecuteTime": {
     "end_time": "2025-03-16T15:51:11.313528Z",
     "start_time": "2025-03-16T15:51:11.281395Z"
    }
   },
   "cell_type": "code",
   "source": "print_detailed_info(df_test)",
   "id": "e9d67e9d95489733",
   "outputs": [
    {
     "name": "stdout",
     "output_type": "stream",
     "text": [
      "Original dataset: 21,946 rows\n",
      "Number of columns in the DataFrame: 27\n",
      "Data columns (total 27 columns):\n",
      " #   Column                               Actual type     Preview\n",
      "---  ------------------------------------ ---------------- --------------------------------------------------\n",
      " 0   unspsc                               str             Sewing and stitchery and weaving equipme...\n",
      " 1   root_domain                          str             studio-atcoat.com\n",
      " 2   page_url                             str             https://studio-atcoat.com/1372696759/?id...\n",
      " 3   product_title                        str             Glimakra Warping Board (8m)\n",
      " 4   product_identifier                   ndarray(0,)     []\n",
      " 5   brand                                str             CST\n",
      " 6   intended_industries                  ndarray(1,)     ['Textile']\n",
      " 7   applicability                        ndarray(1,)     ['use with floor looms']\n",
      " 8   eco_friendly                         bool            True\n",
      " 9   ethical_and_sustainability_practices ndarray(0,)     []\n",
      " 10  production_capacity                  ndarray(0,)     []\n",
      " 11  price                                ndarray(1,)     [{'amount': 159000.0, 'currency': 'KRW',...\n",
      " 12  manufacturing_countries              ndarray(0,)     []\n",
      " 13  manufacturing_type                   ndarray(0,)     []\n",
      " 14  customization                        ndarray(0,)     []\n",
      " 15  packaging_type                       ndarray(0,)     []\n",
      " 16  form                                 ndarray(0,)     []\n",
      " 17  size                                 ndarray(1,)     [{'dimension': 'Length', 'qualitative': ...\n",
      " 18  color                                ndarray(0,)     []\n",
      " 19  purity                               ndarray(0,)     []\n",
      " 20  energy_efficiency                    ndarray(0,)     []\n",
      " 21  pressure_rating                      ndarray(0,)     []\n",
      " 22  power_rating                         ndarray(0,)     []\n",
      " 23  quality_standards_and_certifications ndarray(0,)     []\n",
      " 24  miscellaneous_features               ndarray(0,)     []\n",
      " 25  merged_description                   str             The Glimakra Warping Board is designed f...\n",
      " 26  components                           ndarray(0,)     []\n"
     ]
    }
   ],
   "execution_count": 6
  },
  {
   "metadata": {
    "ExecuteTime": {
     "end_time": "2025-03-16T15:51:11.411043Z",
     "start_time": "2025-03-16T15:51:11.374977Z"
    }
   },
   "cell_type": "code",
   "source": "print_detailed_info(df_original)",
   "id": "70f5f8067aaa05b6",
   "outputs": [
    {
     "name": "stdout",
     "output_type": "stream",
     "text": [
      "Original dataset: 21,946 rows\n",
      "Number of columns in the DataFrame: 31\n",
      "Data columns (total 31 columns):\n",
      " #   Column                               Actual type     Preview\n",
      "---  ------------------------------------ ---------------- --------------------------------------------------\n",
      " 0   unspsc                               str             Sewing and stitchery and weaving equipme...\n",
      " 1   root_domain                          str             studio-atcoat.com\n",
      " 2   page_url                             str             https://studio-atcoat.com/1372696759/?id...\n",
      " 3   product_title                        str             Glimakra Warping Board (8m)\n",
      " 4   product_summary                      str             The Glimakra Warping Board is designed f...\n",
      " 5   product_name                         str             Warping Board\n",
      " 6   product_identifier                   ndarray(0,)     []\n",
      " 7   brand                                str             CST\n",
      " 8   intended_industries                  ndarray(1,)     ['Textile']\n",
      " 9   applicability                        ndarray(1,)     ['use with floor looms']\n",
      " 10  eco_friendly                         bool            True\n",
      " 11  ethical_and_sustainability_practices ndarray(0,)     []\n",
      " 12  production_capacity                  ndarray(0,)     []\n",
      " 13  price                                ndarray(1,)     [{'amount': 159000.0, 'currency': 'KRW',...\n",
      " 14  materials                            ndarray(0,)     []\n",
      " 15  ingredients                          ndarray(0,)     []\n",
      " 16  manufacturing_countries              ndarray(0,)     []\n",
      " 17  manufacturing_year                   int32           -1\n",
      " 18  manufacturing_type                   ndarray(0,)     []\n",
      " 19  customization                        ndarray(0,)     []\n",
      " 20  packaging_type                       ndarray(0,)     []\n",
      " 21  form                                 ndarray(0,)     []\n",
      " 22  size                                 ndarray(1,)     [{'dimension': 'Length', 'qualitative': ...\n",
      " 23  color                                ndarray(0,)     []\n",
      " 24  purity                               ndarray(0,)     []\n",
      " 25  energy_efficiency                    dict            {'exact_percentage': None, 'max_percenta...\n",
      " 26  pressure_rating                      ndarray(0,)     []\n",
      " 27  power_rating                         ndarray(0,)     []\n",
      " 28  quality_standards_and_certifications ndarray(0,)     []\n",
      " 29  miscellaneous_features               ndarray(0,)     []\n",
      " 30  description                          str             The \"Warping Board\" is designed for use ...\n"
     ]
    }
   ],
   "execution_count": 7
  },
  {
   "metadata": {
    "ExecuteTime": {
     "end_time": "2025-03-16T15:51:11.569417Z",
     "start_time": "2025-03-16T15:51:11.473344Z"
    }
   },
   "cell_type": "code",
   "source": [
    "df_original = clean_columns(df_original)\n",
    "print_detailed_info(df_original)"
   ],
   "id": "da61005549eef429",
   "outputs": [
    {
     "name": "stdout",
     "output_type": "stream",
     "text": [
      "Original dataset: 21,946 rows\n",
      "Number of columns in the DataFrame: 27\n",
      "Data columns (total 27 columns):\n",
      " #   Column                               Actual type     Preview\n",
      "---  ------------------------------------ ---------------- --------------------------------------------------\n",
      " 0   unspsc                               str             Sewing and stitchery and weaving equipme...\n",
      " 1   root_domain                          str             studio-atcoat.com\n",
      " 2   page_url                             str             https://studio-atcoat.com/1372696759/?id...\n",
      " 3   product_title                        str             Glimakra Warping Board (8m)\n",
      " 4   product_identifier                   ndarray(0,)     []\n",
      " 5   brand                                str             CST\n",
      " 6   intended_industries                  ndarray(1,)     ['Textile']\n",
      " 7   applicability                        ndarray(1,)     ['use with floor looms']\n",
      " 8   eco_friendly                         bool            True\n",
      " 9   ethical_and_sustainability_practices ndarray(0,)     []\n",
      " 10  production_capacity                  ndarray(0,)     []\n",
      " 11  price                                ndarray(1,)     [{'amount': 159000.0, 'currency': 'KRW',...\n",
      " 12  manufacturing_countries              ndarray(0,)     []\n",
      " 13  manufacturing_type                   ndarray(0,)     []\n",
      " 14  customization                        ndarray(0,)     []\n",
      " 15  packaging_type                       ndarray(0,)     []\n",
      " 16  form                                 ndarray(0,)     []\n",
      " 17  size                                 ndarray(1,)     [{'dimension': 'Length', 'qualitative': ...\n",
      " 18  color                                ndarray(0,)     []\n",
      " 19  purity                               ndarray(0,)     []\n",
      " 20  energy_efficiency                    dict            {'exact_percentage': None, 'max_percenta...\n",
      " 21  pressure_rating                      ndarray(0,)     []\n",
      " 22  power_rating                         ndarray(0,)     []\n",
      " 23  quality_standards_and_certifications ndarray(0,)     []\n",
      " 24  miscellaneous_features               ndarray(0,)     []\n",
      " 25  product_description                  str             The Glimakra Warping Board is designed f...\n",
      " 26  components                           ndarray(0,)     []\n"
     ]
    }
   ],
   "execution_count": 8
  }
 ],
 "metadata": {
  "kernelspec": {
   "display_name": "Python 3",
   "language": "python",
   "name": "python3"
  },
  "language_info": {
   "codemirror_mode": {
    "name": "ipython",
    "version": 2
   },
   "file_extension": ".py",
   "mimetype": "text/x-python",
   "name": "python",
   "nbconvert_exporter": "python",
   "pygments_lexer": "ipython2",
   "version": "2.7.6"
  }
 },
 "nbformat": 4,
 "nbformat_minor": 5
}
