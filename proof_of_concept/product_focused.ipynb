{
 "cells": [
  {
   "cell_type": "code",
   "id": "initial_id",
   "metadata": {
    "collapsed": true,
    "ExecuteTime": {
     "end_time": "2025-03-16T23:02:56.985852Z",
     "start_time": "2025-03-16T23:02:56.531749Z"
    }
   },
   "source": [
    "import pandas as pd\n",
    "\n",
    "from src.path import DataPaths\n",
    "from src.process_columns import clean_columns\n",
    "from src.merge import merge_dataframe_rows\n",
    "\n",
    "from tools.type_check import print_detailed_info\n",
    "from tools.save_data import export_dataframe\n",
    "\n",
    "df = pd.read_parquet(DataPaths.file_parquet_original)\n"
   ],
   "outputs": [],
   "execution_count": 1
  },
  {
   "metadata": {
    "ExecuteTime": {
     "end_time": "2025-03-16T23:02:57.172466Z",
     "start_time": "2025-03-16T23:02:56.988373Z"
    }
   },
   "cell_type": "code",
   "source": [
    "df = clean_columns(df)\n",
    "print_detailed_info(df)"
   ],
   "id": "6f2f8cc8e179d71e",
   "outputs": [
    {
     "name": "stdout",
     "output_type": "stream",
     "text": [
      "Original dataset: 21,946 rows\n",
      "Number of columns in the DataFrame: 27\n",
      "Data columns (total 27 columns):\n",
      " #   Column                               Actual type     Preview\n",
      "---  ------------------------------------ ---------------- --------------------------------------------------\n",
      " 0   unspsc                               str             Sewing and stitchery and weaving equipme...\n",
      " 1   root_domain                          str             studio-atcoat.com\n",
      " 2   page_url                             str             https://studio-atcoat.com/1372696759/?id...\n",
      " 3   product_title                        str             Glimakra Warping Board (8m)\n",
      " 4   product_identifier                   ndarray(0,)     []\n",
      " 5   brand                                str             CST\n",
      " 6   intended_industries                  ndarray(1,)     ['Textile']\n",
      " 7   applicability                        ndarray(1,)     ['use with floor looms']\n",
      " 8   eco_friendly                         bool            True\n",
      " 9   ethical_and_sustainability_practices ndarray(0,)     []\n",
      " 10  production_capacity                  ndarray(0,)     []\n",
      " 11  price                                ndarray(1,)     [{'amount': 159000.0, 'currency': 'KRW',...\n",
      " 12  manufacturing_countries              ndarray(0,)     []\n",
      " 13  manufacturing_type                   ndarray(0,)     []\n",
      " 14  customization                        ndarray(0,)     []\n",
      " 15  packaging_type                       ndarray(0,)     []\n",
      " 16  form                                 ndarray(0,)     []\n",
      " 17  size                                 ndarray(1,)     [{'dimension': 'Length', 'qualitative': ...\n",
      " 18  color                                ndarray(0,)     []\n",
      " 19  purity                               ndarray(0,)     []\n",
      " 20  energy_efficiency                    list            []\n",
      " 21  pressure_rating                      ndarray(0,)     []\n",
      " 22  power_rating                         ndarray(0,)     []\n",
      " 23  quality_standards_and_certifications ndarray(0,)     []\n",
      " 24  miscellaneous_features               ndarray(0,)     []\n",
      " 25  product_description                  str             The Glimakra Warping Board is designed f...\n",
      " 26  components                           ndarray(0,)     []\n"
     ]
    }
   ],
   "execution_count": 2
  },
  {
   "metadata": {
    "ExecuteTime": {
     "end_time": "2025-03-16T23:02:57.299587Z",
     "start_time": "2025-03-16T23:02:57.297035Z"
    }
   },
   "cell_type": "code",
   "source": "# df = merge_dataframe_rows(df, 'product_title')",
   "id": "8886ec43e1ddda81",
   "outputs": [],
   "execution_count": 3
  },
  {
   "metadata": {
    "ExecuteTime": {
     "end_time": "2025-03-16T23:02:57.314839Z",
     "start_time": "2025-03-16T23:02:57.307732Z"
    }
   },
   "cell_type": "code",
   "source": [
    "from src.merge import merge_root_domain\n",
    "test_df = df.head(10)[['root_domain']].copy()\n",
    "print_detailed_info(test_df)\n",
    "test_df.head(10)"
   ],
   "id": "585a5d0222768c6a",
   "outputs": [
    {
     "name": "stdout",
     "output_type": "stream",
     "text": [
      "Original dataset: 10 rows\n",
      "Number of columns in the DataFrame: 1\n",
      "Data columns (total 1 columns):\n",
      " #   Column                               Actual type     Preview\n",
      "---  ------------------------------------ ---------------- --------------------------------------------------\n",
      " 0   root_domain                          str             studio-atcoat.com\n"
     ]
    },
    {
     "data": {
      "text/plain": [
       "                  root_domain\n",
       "0           studio-atcoat.com\n",
       "1              worm-gears.net\n",
       "2        customcarcoverco.com\n",
       "3             plumbmaster.com\n",
       "4                    sogno.in\n",
       "5             plumbmaster.com\n",
       "6  advancedpressuresystems.ca\n",
       "7        armstrongmedical.com\n",
       "8  advancedpressuresystems.ca\n",
       "9            workwonderly.com"
      ],
      "text/html": [
       "<div>\n",
       "<style scoped>\n",
       "    .dataframe tbody tr th:only-of-type {\n",
       "        vertical-align: middle;\n",
       "    }\n",
       "\n",
       "    .dataframe tbody tr th {\n",
       "        vertical-align: top;\n",
       "    }\n",
       "\n",
       "    .dataframe thead th {\n",
       "        text-align: right;\n",
       "    }\n",
       "</style>\n",
       "<table border=\"1\" class=\"dataframe\">\n",
       "  <thead>\n",
       "    <tr style=\"text-align: right;\">\n",
       "      <th></th>\n",
       "      <th>root_domain</th>\n",
       "    </tr>\n",
       "  </thead>\n",
       "  <tbody>\n",
       "    <tr>\n",
       "      <th>0</th>\n",
       "      <td>studio-atcoat.com</td>\n",
       "    </tr>\n",
       "    <tr>\n",
       "      <th>1</th>\n",
       "      <td>worm-gears.net</td>\n",
       "    </tr>\n",
       "    <tr>\n",
       "      <th>2</th>\n",
       "      <td>customcarcoverco.com</td>\n",
       "    </tr>\n",
       "    <tr>\n",
       "      <th>3</th>\n",
       "      <td>plumbmaster.com</td>\n",
       "    </tr>\n",
       "    <tr>\n",
       "      <th>4</th>\n",
       "      <td>sogno.in</td>\n",
       "    </tr>\n",
       "    <tr>\n",
       "      <th>5</th>\n",
       "      <td>plumbmaster.com</td>\n",
       "    </tr>\n",
       "    <tr>\n",
       "      <th>6</th>\n",
       "      <td>advancedpressuresystems.ca</td>\n",
       "    </tr>\n",
       "    <tr>\n",
       "      <th>7</th>\n",
       "      <td>armstrongmedical.com</td>\n",
       "    </tr>\n",
       "    <tr>\n",
       "      <th>8</th>\n",
       "      <td>advancedpressuresystems.ca</td>\n",
       "    </tr>\n",
       "    <tr>\n",
       "      <th>9</th>\n",
       "      <td>workwonderly.com</td>\n",
       "    </tr>\n",
       "  </tbody>\n",
       "</table>\n",
       "</div>"
      ]
     },
     "execution_count": 4,
     "metadata": {},
     "output_type": "execute_result"
    }
   ],
   "execution_count": 4
  },
  {
   "metadata": {
    "ExecuteTime": {
     "end_time": "2025-03-16T23:02:57.345359Z",
     "start_time": "2025-03-16T23:02:57.338764Z"
    }
   },
   "cell_type": "code",
   "source": [
    "test_df = merge_dataframe_rows(test_df, 'root_domain')\n",
    "print_detailed_info(test_df)\n",
    "test_df.head(10)"
   ],
   "id": "aaf1f1b26eb995e0",
   "outputs": [
    {
     "name": "stdout",
     "output_type": "stream",
     "text": [
      "Original dataset: 8 rows\n",
      "Number of columns in the DataFrame: 1\n",
      "Data columns (total 1 columns):\n",
      " #   Column                               Actual type     Preview\n",
      "---  ------------------------------------ ---------------- --------------------------------------------------\n",
      " 0   root_domain                          str             advancedpressuresystems.ca\n"
     ]
    },
    {
     "data": {
      "text/plain": [
       "                  root_domain\n",
       "0  advancedpressuresystems.ca\n",
       "1        armstrongmedical.com\n",
       "2        customcarcoverco.com\n",
       "3             plumbmaster.com\n",
       "4                    sogno.in\n",
       "5           studio-atcoat.com\n",
       "6            workwonderly.com\n",
       "7              worm-gears.net"
      ],
      "text/html": [
       "<div>\n",
       "<style scoped>\n",
       "    .dataframe tbody tr th:only-of-type {\n",
       "        vertical-align: middle;\n",
       "    }\n",
       "\n",
       "    .dataframe tbody tr th {\n",
       "        vertical-align: top;\n",
       "    }\n",
       "\n",
       "    .dataframe thead th {\n",
       "        text-align: right;\n",
       "    }\n",
       "</style>\n",
       "<table border=\"1\" class=\"dataframe\">\n",
       "  <thead>\n",
       "    <tr style=\"text-align: right;\">\n",
       "      <th></th>\n",
       "      <th>root_domain</th>\n",
       "    </tr>\n",
       "  </thead>\n",
       "  <tbody>\n",
       "    <tr>\n",
       "      <th>0</th>\n",
       "      <td>advancedpressuresystems.ca</td>\n",
       "    </tr>\n",
       "    <tr>\n",
       "      <th>1</th>\n",
       "      <td>armstrongmedical.com</td>\n",
       "    </tr>\n",
       "    <tr>\n",
       "      <th>2</th>\n",
       "      <td>customcarcoverco.com</td>\n",
       "    </tr>\n",
       "    <tr>\n",
       "      <th>3</th>\n",
       "      <td>plumbmaster.com</td>\n",
       "    </tr>\n",
       "    <tr>\n",
       "      <th>4</th>\n",
       "      <td>sogno.in</td>\n",
       "    </tr>\n",
       "    <tr>\n",
       "      <th>5</th>\n",
       "      <td>studio-atcoat.com</td>\n",
       "    </tr>\n",
       "    <tr>\n",
       "      <th>6</th>\n",
       "      <td>workwonderly.com</td>\n",
       "    </tr>\n",
       "    <tr>\n",
       "      <th>7</th>\n",
       "      <td>worm-gears.net</td>\n",
       "    </tr>\n",
       "  </tbody>\n",
       "</table>\n",
       "</div>"
      ]
     },
     "execution_count": 5,
     "metadata": {},
     "output_type": "execute_result"
    }
   ],
   "execution_count": 5
  },
  {
   "metadata": {
    "ExecuteTime": {
     "end_time": "2025-03-16T23:02:57.388849Z",
     "start_time": "2025-03-16T23:02:57.381926Z"
    }
   },
   "cell_type": "code",
   "source": [
    "# Create a minimal test dataframe with duplicates across domains\n",
    "test_data = {\n",
    "    'product_title': ['Test Product', 'Test Product', 'Another Product'],\n",
    "    'root_domain': ['domain1.com', 'domain2.com', 'domain3.com'],\n",
    "    'page_url': ['https://domain1.com/prod', 'https://domain2.com/prod', 'https://domain3.com/other']\n",
    "}\n",
    "\n",
    "import pandas as pd\n",
    "mini_df = pd.DataFrame(test_data)\n",
    "\n",
    "print(\"Original test data:\")\n",
    "print(mini_df)\n",
    "\n",
    "# Import your merge function and apply it\n",
    "from src.merge import merge_dataframe_rows\n",
    "\n",
    "# Try to merge\n",
    "result_df = merge_dataframe_rows(mini_df, 'product_title')\n",
    "\n",
    "print(\"\\nAfter merging:\")\n",
    "print(result_df)\n",
    "\n",
    "# Examine the structure of the result to see exactly what happened\n",
    "print(\"\\nDetailed result structure:\")\n",
    "for _, row in result_df.iterrows():\n",
    "    print(f\"Product: {row['product_title']}\")\n",
    "    print(f\"Domain: {row['root_domain']} (type: {type(row['root_domain'])})\")\n",
    "    print(f\"URL: {row['page_url']} (type: {type(row['page_url'])})\")\n",
    "    print(\"-\" * 40)"
   ],
   "id": "fb5947cdc3b3838d",
   "outputs": [
    {
     "name": "stdout",
     "output_type": "stream",
     "text": [
      "Original test data:\n",
      "     product_title  root_domain                   page_url\n",
      "0     Test Product  domain1.com   https://domain1.com/prod\n",
      "1     Test Product  domain2.com   https://domain2.com/prod\n",
      "2  Another Product  domain3.com  https://domain3.com/other\n",
      "\n",
      "After merging:\n",
      "     product_title                root_domain  \\\n",
      "0  Another Product                domain3.com   \n",
      "1     Test Product  domain1.com | domain2.com   \n",
      "\n",
      "                                            page_url  \n",
      "0                          https://domain3.com/other  \n",
      "1  https://domain1.com/prod | https://domain2.com...  \n",
      "\n",
      "Detailed result structure:\n",
      "Product: Another Product\n",
      "Domain: domain3.com (type: <class 'str'>)\n",
      "URL: https://domain3.com/other (type: <class 'str'>)\n",
      "----------------------------------------\n",
      "Product: Test Product\n",
      "Domain: domain1.com | domain2.com (type: <class 'str'>)\n",
      "URL: https://domain1.com/prod | https://domain2.com/prod (type: <class 'str'>)\n",
      "----------------------------------------\n"
     ]
    }
   ],
   "execution_count": 6
  },
  {
   "metadata": {
    "ExecuteTime": {
     "end_time": "2025-03-16T23:04:42.614380Z",
     "start_time": "2025-03-16T23:04:36.339767Z"
    }
   },
   "cell_type": "code",
   "source": [
    "# Start with loading and cleaning the data\n",
    "df_test1 = pd.read_parquet(DataPaths.file_parquet_original)\n",
    "df_test1 = clean_columns(df_test1)\n",
    "\n",
    "# Print information about the original dataset\n",
    "print(f\"Original dataset: {len(df_test1):,} rows\")\n",
    "\n",
    "# Let's check how many potential duplicates we have by product_title\n",
    "duplicate_mask = df_test1.duplicated(subset=['product_title'], keep=False)\n",
    "duplicate_count = duplicate_mask.sum()\n",
    "print(f\"Rows with duplicate product_title: {duplicate_count:,} ({duplicate_count/len(df_test1):.2%} of total)\")\n",
    "\n",
    "# Apply the merge operation\n",
    "import time\n",
    "start_time = time.time()\n",
    "\n",
    "# Merge based on product_title\n",
    "merged_df = merge_dataframe_rows(df_test1, 'product_title')\n",
    "\n",
    "end_time = time.time()\n",
    "processing_time = end_time - start_time\n",
    "\n",
    "# Print information about the merged dataset\n",
    "print(f\"Merged dataset: {len(merged_df):,} rows\")\n",
    "print(f\"Rows reduced: {len(df_test1) - len(merged_df):,} ({(len(df_test1) - len(merged_df))/len(df_test1):.2%} of original)\")\n",
    "print(f\"Processing time: {processing_time:.2f} seconds\")\n",
    "\n",
    "# Check a few examples to confirm merging worked correctly\n",
    "print(\"\\nSample of merged records with multiple domains:\")\n",
    "# Find rows where root_domain contains a pipe character (merged domains)\n",
    "merged_domains_mask = merged_df['root_domain'].str.contains(' \\| ', regex=True)\n",
    "merged_sample = merged_df[merged_domains_mask].head(3)\n",
    "\n",
    "if len(merged_sample) > 0:\n",
    "    for idx, row in merged_sample.iterrows():\n",
    "        print(f\"\\nProduct: {row['product_title']}\")\n",
    "        print(f\"Domains: {row['root_domain']}\")\n",
    "        print(f\"URLs: {row['page_url']}\")\n",
    "        print(\"-\" * 60)\n",
    "else:\n",
    "    print(\"No records with merged domains found in sample.\")"
   ],
   "id": "dabc7e80a4b123ec",
   "outputs": [
    {
     "name": "stderr",
     "output_type": "stream",
     "text": [
      "<>:31: SyntaxWarning: invalid escape sequence '\\|'\n",
      "<>:31: SyntaxWarning: invalid escape sequence '\\|'\n",
      "C:\\Users\\rbrez\\AppData\\Local\\Temp\\ipykernel_13208\\1745006328.py:31: SyntaxWarning: invalid escape sequence '\\|'\n",
      "  merged_domains_mask = merged_df['root_domain'].str.contains(' \\| ', regex=True)\n"
     ]
    },
    {
     "name": "stdout",
     "output_type": "stream",
     "text": [
      "Original dataset: 21,946 rows\n",
      "Rows with duplicate product_title: 4,422 (20.15% of total)\n",
      "WARNING: Found 1 groups with merge conflicts!\n",
      "Logged 2 rows with merge errors to E:\\veridion_deduplication\\data\\error\\merge_errors.csv\n",
      "Merged dataset: 18,954 rows\n",
      "Rows reduced: 2,992 (13.63% of original)\n",
      "Processing time: 5.95 seconds\n",
      "\n",
      "Sample of merged records with multiple domains:\n",
      "\n",
      "Product: 4x4 Tyres\n",
      "Domains: laws-tyres.com | peterboroughmobiletyre.com\n",
      "URLs: https://www.laws-tyres.com/ | https://www.peterboroughmobiletyre.com/4x4-tyres\n",
      "------------------------------------------------------------\n",
      "\n",
      "Product: Accessories\n",
      "Domains: armytrucktom.nl | bothwellfarmsupplies.com | cdivalve.com | cutter-shop.com | frescowindows.com | gefranonline.net | hugoandtedltd.com | intellitecmv.com | lloydpans.com | millargb.com | plumbmaster.com\n",
      "URLs: http://bothwellfarmsupplies.com/index.html | https://armytrucktom.nl/ | https://cutter-shop.com/shop/ | https://frescowindows.com/ | https://lloydpans.com/help/shipping | https://millargb.com/en/ | https://www.cdivalve.com/products/pneumatic-valves/any/any/Brass/--189---or---8540-- | https://www.cdivalve.com/products/pneumatic-valves/any/any/any/--188---or---8309----8260----8321----8326-- | https://www.cdivalve.com/products/pneumatic-valves/any/any/any/--189---or---188-- | https://www.cdivalve.com/products/pneumatic-valves/any/ball-valves-or-throttle-controls/Brass/any | https://www.gefranonline.net/ | https://www.gefranonline.net/shipping-guide | https://www.hugoandtedltd.com/policies/contact-information | https://www.intellitecmv.com/ | https://www.plumbmaster.com/general-maintenance/c/5\n",
      "------------------------------------------------------------\n",
      "\n",
      "Product: Adhesives\n",
      "Domains: appleplywoods.com | thestonetilewarehouse.co.uk\n",
      "URLs: https://appleplywoods.com/about-us/ | https://thestonetilewarehouse.co.uk/about-us/\n",
      "------------------------------------------------------------\n"
     ]
    }
   ],
   "execution_count": 7
  }
 ],
 "metadata": {
  "kernelspec": {
   "display_name": "Python 3",
   "language": "python",
   "name": "python3"
  },
  "language_info": {
   "codemirror_mode": {
    "name": "ipython",
    "version": 2
   },
   "file_extension": ".py",
   "mimetype": "text/x-python",
   "name": "python",
   "nbconvert_exporter": "python",
   "pygments_lexer": "ipython2",
   "version": "2.7.6"
  }
 },
 "nbformat": 4,
 "nbformat_minor": 5
}
