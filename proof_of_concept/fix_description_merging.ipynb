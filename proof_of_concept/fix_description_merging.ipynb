{
 "cells": [
  {
   "cell_type": "code",
   "id": "initial_id",
   "metadata": {
    "collapsed": true,
    "ExecuteTime": {
     "end_time": "2025-03-16T18:03:40.792096Z",
     "start_time": "2025-03-16T18:03:40.788981Z"
    }
   },
   "source": [
    "import pandas as pd\n",
    "\n",
    "from tools.save_data import export_dataframe\n",
    "from tools.type_check import print_detailed_info\n",
    "from src.path import DataPaths\n"
   ],
   "outputs": [],
   "execution_count": 20
  },
  {
   "metadata": {
    "ExecuteTime": {
     "end_time": "2025-03-16T18:03:40.972502Z",
     "start_time": "2025-03-16T18:03:40.794642Z"
    }
   },
   "cell_type": "code",
   "source": [
    "df = pd.read_parquet(DataPaths.file_parquet_original)\n",
    "df = df[['product_title', 'description', 'product_summary']]\n",
    "print_detailed_info(df)"
   ],
   "id": "28c6516b90a050a",
   "outputs": [
    {
     "name": "stdout",
     "output_type": "stream",
     "text": [
      "Original dataset: 21,946 rows\n",
      "Number of columns in the DataFrame: 3\n",
      "Data columns (total 3 columns):\n",
      " #   Column                               Actual type     Preview\n",
      "---  ------------------------------------ ---------------- --------------------------------------------------\n",
      " 0   product_title                        str             Glimakra Warping Board (8m)\n",
      " 1   description                          str             The \"Warping Board\" is designed for use ...\n",
      " 2   product_summary                      str             The Glimakra Warping Board is designed f...\n"
     ]
    }
   ],
   "execution_count": 21
  },
  {
   "metadata": {
    "ExecuteTime": {
     "end_time": "2025-03-16T18:03:40.982902Z",
     "start_time": "2025-03-16T18:03:40.978755Z"
    }
   },
   "cell_type": "code",
   "source": [
    "def merge_and_drop_descriptions(df):\n",
    "    \"\"\"\n",
    "    Merge description and product_summary columns based on the longest string,\n",
    "    modifying the DataFrame in place.\n",
    "\n",
    "    Args:\n",
    "        df: DataFrame with product_title, description, and product_summary columns\n",
    "\n",
    "    Returns:\n",
    "        None (modifies the DataFrame in place)\n",
    "    \"\"\"\n",
    "    # Create a new column with the longest text between description and product_summary\n",
    "    df['product_description'] = df.apply(\n",
    "        lambda row: row['description'] if len(str(row['description'])) >= len(str(row['product_summary']))\n",
    "                   else row['product_summary'],\n",
    "        axis=1\n",
    "    )\n",
    "\n",
    "    # Handle any None/NaN values\n",
    "    df['product_description'] = df['product_description'].fillna('')\n",
    "\n",
    "    # Drop the original description and product_summary columns\n",
    "    df.drop(['description', 'product_summary'], axis=1, inplace=True)\n",
    "\n",
    "    return df  # Return the modified DataFrame for convenience"
   ],
   "id": "d372578ba1dde978",
   "outputs": [],
   "execution_count": 22
  },
  {
   "metadata": {
    "ExecuteTime": {
     "end_time": "2025-03-16T18:03:41.104049Z",
     "start_time": "2025-03-16T18:03:40.987463Z"
    }
   },
   "cell_type": "code",
   "source": [
    "merge_and_drop_descriptions(df)\n",
    "print_detailed_info(df)"
   ],
   "id": "9ee27179a30063fd",
   "outputs": [
    {
     "name": "stdout",
     "output_type": "stream",
     "text": [
      "Original dataset: 21,946 rows\n",
      "Number of columns in the DataFrame: 2\n",
      "Data columns (total 2 columns):\n",
      " #   Column                               Actual type     Preview\n",
      "---  ------------------------------------ ---------------- --------------------------------------------------\n",
      " 0   product_title                        str             Glimakra Warping Board (8m)\n",
      " 1   product_description                  str             The Glimakra Warping Board is designed f...\n"
     ]
    }
   ],
   "execution_count": 23
  },
  {
   "metadata": {
    "ExecuteTime": {
     "end_time": "2025-03-16T18:03:41.156275Z",
     "start_time": "2025-03-16T18:03:41.115923Z"
    }
   },
   "cell_type": "code",
   "source": "export_dataframe(df, DataPaths.test_folder, \"test_description\", file_format=\"parquet\")",
   "id": "cc4d9a52ca17ac84",
   "outputs": [
    {
     "name": "stdout",
     "output_type": "stream",
     "text": [
      "Exported data to: E:\\veridion_deduplication\\data\\test\\test_description.snappy.parquet\n"
     ]
    },
    {
     "data": {
      "text/plain": [
       "WindowsPath('E:/veridion_deduplication/data/test/test_description.snappy.parquet')"
      ]
     },
     "execution_count": 24,
     "metadata": {},
     "output_type": "execute_result"
    }
   ],
   "execution_count": 24
  }
 ],
 "metadata": {
  "kernelspec": {
   "display_name": "Python 3",
   "language": "python",
   "name": "python3"
  },
  "language_info": {
   "codemirror_mode": {
    "name": "ipython",
    "version": 2
   },
   "file_extension": ".py",
   "mimetype": "text/x-python",
   "name": "python",
   "nbconvert_exporter": "python",
   "pygments_lexer": "ipython2",
   "version": "2.7.6"
  }
 },
 "nbformat": 4,
 "nbformat_minor": 5
}
