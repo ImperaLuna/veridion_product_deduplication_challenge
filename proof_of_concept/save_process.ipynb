{
 "cells": [
  {
   "cell_type": "code",
   "id": "initial_id",
   "metadata": {
    "collapsed": true,
    "ExecuteTime": {
     "end_time": "2025-03-16T02:52:47.334537Z",
     "start_time": "2025-03-16T02:52:46.994214Z"
    }
   },
   "source": [
    "import pandas as pd\n",
    "import os\n",
    "import time\n",
    "\n",
    "from src.path import DataPaths\n",
    "from src.deprecated_main import merge_by_url_and_title, merge_by_title_and_domain\n",
    "from src.process_columns import clean_energy_efficiency\n",
    "from main import optimized_merge\n",
    "\n",
    "from tools.save_data import export_dataframe\n",
    "from tools.type_check import print_detailed_info\n",
    "\n"
   ],
   "outputs": [],
   "execution_count": 1
  },
  {
   "metadata": {
    "ExecuteTime": {
     "end_time": "2025-03-16T02:52:47.494868Z",
     "start_time": "2025-03-16T02:52:47.337587Z"
    }
   },
   "cell_type": "code",
   "source": [
    "parquet_file = DataPaths.file_parquet_original\n",
    "df = pd.read_parquet(parquet_file)"
   ],
   "id": "6e5f21a943624fd9",
   "outputs": [],
   "execution_count": 2
  },
  {
   "metadata": {
    "ExecuteTime": {
     "end_time": "2025-03-16T02:52:47.675381Z",
     "start_time": "2025-03-16T02:52:47.627529Z"
    }
   },
   "cell_type": "code",
   "source": [
    "df = clean_energy_efficiency(df)\n",
    "print_detailed_info(df)"
   ],
   "id": "7a9ea0c6550d862",
   "outputs": [
    {
     "name": "stdout",
     "output_type": "stream",
     "text": [
      "Original dataset: 21,946 rows\n",
      "Number of columns in the DataFrame: 31\n",
      "Data columns (total 31 columns):\n",
      " #   Column                               Actual type     Preview\n",
      "---  ------------------------------------ ---------------- --------------------------------------------------\n",
      " 0   unspsc                               str             Sewing and stitchery and weaving equipme...\n",
      " 1   root_domain                          str             studio-atcoat.com\n",
      " 2   page_url                             str             https://studio-atcoat.com/1372696759/?id...\n",
      " 3   product_title                        str             Glimakra Warping Board (8m)\n",
      " 4   product_summary                      str             The Glimakra Warping Board is designed f...\n",
      " 5   product_name                         str             Warping Board\n",
      " 6   product_identifier                   ndarray(0,)     []\n",
      " 7   brand                                str             CST\n",
      " 8   intended_industries                  ndarray(1,)     ['Textile']\n",
      " 9   applicability                        ndarray(1,)     ['use with floor looms']\n",
      " 10  eco_friendly                         bool            True\n",
      " 11  ethical_and_sustainability_practices ndarray(0,)     []\n",
      " 12  production_capacity                  ndarray(0,)     []\n",
      " 13  price                                ndarray(1,)     [{'amount': 159000.0, 'currency': 'KRW',...\n",
      " 14  materials                            ndarray(0,)     []\n",
      " 15  ingredients                          ndarray(0,)     []\n",
      " 16  manufacturing_countries              ndarray(0,)     []\n",
      " 17  manufacturing_year                   int32           -1\n",
      " 18  manufacturing_type                   ndarray(0,)     []\n",
      " 19  customization                        ndarray(0,)     []\n",
      " 20  packaging_type                       ndarray(0,)     []\n",
      " 21  form                                 ndarray(0,)     []\n",
      " 22  size                                 ndarray(1,)     [{'dimension': 'Length', 'qualitative': ...\n",
      " 23  color                                ndarray(0,)     []\n",
      " 24  purity                               ndarray(0,)     []\n",
      " 25  energy_efficiency                    list            []\n",
      " 26  pressure_rating                      ndarray(0,)     []\n",
      " 27  power_rating                         ndarray(0,)     []\n",
      " 28  quality_standards_and_certifications ndarray(0,)     []\n",
      " 29  miscellaneous_features               ndarray(0,)     []\n",
      " 30  description                          str             The \"Warping Board\" is designed for use ...\n"
     ]
    }
   ],
   "execution_count": 3
  },
  {
   "metadata": {
    "ExecuteTime": {
     "end_time": "2025-03-16T02:52:47.929449Z",
     "start_time": "2025-03-16T02:52:47.683966Z"
    }
   },
   "cell_type": "code",
   "source": "export_dataframe(df, DataPaths.test_folder, \"testparquet_saving\", file_format=\"parquet\")",
   "id": "c24c40e6beb58350",
   "outputs": [
    {
     "name": "stdout",
     "output_type": "stream",
     "text": [
      "Exported data to: E:\\veridion_deduplication\\data\\test\\testparquet_saving.snappy.parquet\n"
     ]
    },
    {
     "data": {
      "text/plain": [
       "WindowsPath('E:/veridion_deduplication/data/test/testparquet_saving.snappy.parquet')"
      ]
     },
     "execution_count": 4,
     "metadata": {},
     "output_type": "execute_result"
    }
   ],
   "execution_count": 4
  },
  {
   "metadata": {
    "ExecuteTime": {
     "end_time": "2025-03-16T02:52:48.097529Z",
     "start_time": "2025-03-16T02:52:47.938258Z"
    }
   },
   "cell_type": "code",
   "source": [
    "df_test = pd.read_parquet('E:/veridion_deduplication/data/test/testparquet_saving.snappy.parquet')\n",
    "print_detailed_info(df_test)"
   ],
   "id": "1cd5aad27d0905a9",
   "outputs": [
    {
     "name": "stdout",
     "output_type": "stream",
     "text": [
      "Original dataset: 21,946 rows\n",
      "Number of columns in the DataFrame: 31\n",
      "Data columns (total 31 columns):\n",
      " #   Column                               Actual type     Preview\n",
      "---  ------------------------------------ ---------------- --------------------------------------------------\n",
      " 0   unspsc                               str             Sewing and stitchery and weaving equipme...\n",
      " 1   root_domain                          str             studio-atcoat.com\n",
      " 2   page_url                             str             https://studio-atcoat.com/1372696759/?id...\n",
      " 3   product_title                        str             Glimakra Warping Board (8m)\n",
      " 4   product_summary                      str             The Glimakra Warping Board is designed f...\n",
      " 5   product_name                         str             Warping Board\n",
      " 6   product_identifier                   ndarray(0,)     []\n",
      " 7   brand                                str             CST\n",
      " 8   intended_industries                  ndarray(1,)     ['Textile']\n",
      " 9   applicability                        ndarray(1,)     ['use with floor looms']\n",
      " 10  eco_friendly                         bool            True\n",
      " 11  ethical_and_sustainability_practices ndarray(0,)     []\n",
      " 12  production_capacity                  ndarray(0,)     []\n",
      " 13  price                                ndarray(1,)     [{'amount': 159000.0, 'currency': 'KRW',...\n",
      " 14  materials                            ndarray(0,)     []\n",
      " 15  ingredients                          ndarray(0,)     []\n",
      " 16  manufacturing_countries              ndarray(0,)     []\n",
      " 17  manufacturing_year                   int32           -1\n",
      " 18  manufacturing_type                   ndarray(0,)     []\n",
      " 19  customization                        ndarray(0,)     []\n",
      " 20  packaging_type                       ndarray(0,)     []\n",
      " 21  form                                 ndarray(0,)     []\n",
      " 22  size                                 ndarray(1,)     [{'dimension': 'Length', 'qualitative': ...\n",
      " 23  color                                ndarray(0,)     []\n",
      " 24  purity                               ndarray(0,)     []\n",
      " 25  energy_efficiency                    ndarray(0,)     []\n",
      " 26  pressure_rating                      ndarray(0,)     []\n",
      " 27  power_rating                         ndarray(0,)     []\n",
      " 28  quality_standards_and_certifications ndarray(0,)     []\n",
      " 29  miscellaneous_features               ndarray(0,)     []\n",
      " 30  description                          str             The \"Warping Board\" is designed for use ...\n"
     ]
    }
   ],
   "execution_count": 5
  },
  {
   "metadata": {
    "ExecuteTime": {
     "end_time": "2025-03-16T02:52:48.231944Z",
     "start_time": "2025-03-16T02:52:48.107482Z"
    }
   },
   "cell_type": "code",
   "source": [
    "final_parquet_file = DataPaths.file_parquet_final\n",
    "df_final_test = pd.read_parquet(final_parquet_file)\n",
    "print_detailed_info(df_final_test)"
   ],
   "id": "e6824f726d1006c5",
   "outputs": [
    {
     "name": "stdout",
     "output_type": "stream",
     "text": [
      "Original dataset: 19,054 rows\n",
      "Number of columns in the DataFrame: 27\n",
      "Data columns (total 27 columns):\n",
      " #   Column                               Actual type     Preview\n",
      "---  ------------------------------------ ---------------- --------------------------------------------------\n",
      " 0   unspsc                               str             Fastening supplies|Straps\n",
      " 1   root_domain                          str             basspaper.ca\n",
      " 2   page_url                             str             https://shop.basspaper.ca/Product?Catego...\n",
      " 3   product_title                        str             #64 Elastic Bands 5LB\n",
      " 4   brand                                str             Alpha Poster\n",
      " 5   eco_friendly                         bool            True\n",
      " 6   merged_description                   str             The #64 Elastic Bands 5LB is a versatile...\n",
      " 7   product_identifier                   ndarray(2,)     ['Product_Code: 819-0685N' 'Part_Number:...\n",
      " 8   intended_industries                  ndarray(2,)     ['Office Supplies' 'Packaging']\n",
      " 9   applicability                        ndarray(3,)     ['Heavy-Duty Packaging' 'Securing Docume...\n",
      " 10  ethical_and_sustainability_practices ndarray(0,)     []\n",
      " 11  components                           ndarray(0,)     []\n",
      " 12  manufacturing_countries              ndarray(0,)     []\n",
      " 13  manufacturing_type                   ndarray(0,)     []\n",
      " 14  customization                        ndarray(0,)     []\n",
      " 15  packaging_type                       ndarray(0,)     []\n",
      " 16  form                                 ndarray(0,)     []\n",
      " 17  quality_standards_and_certifications ndarray(0,)     []\n",
      " 18  miscellaneous_features               ndarray(0,)     []\n",
      " 19  production_capacity                  ndarray(0,)     []\n",
      " 20  price                                ndarray(0,)     []\n",
      " 21  size                                 ndarray(2,)     [{'dimension': 'Weight', 'qualitative': ...\n",
      " 22  color                                ndarray(0,)     []\n",
      " 23  purity                               ndarray(0,)     []\n",
      " 24  energy_efficiency                    str→list        []\n",
      " 25  pressure_rating                      ndarray(0,)     []\n",
      " 26  power_rating                         ndarray(0,)     []\n"
     ]
    }
   ],
   "execution_count": 6
  }
 ],
 "metadata": {
  "kernelspec": {
   "display_name": "Python 3",
   "language": "python",
   "name": "python3"
  },
  "language_info": {
   "codemirror_mode": {
    "name": "ipython",
    "version": 2
   },
   "file_extension": ".py",
   "mimetype": "text/x-python",
   "name": "python",
   "nbconvert_exporter": "python",
   "pygments_lexer": "ipython2",
   "version": "2.7.6"
  }
 },
 "nbformat": 4,
 "nbformat_minor": 5
}
