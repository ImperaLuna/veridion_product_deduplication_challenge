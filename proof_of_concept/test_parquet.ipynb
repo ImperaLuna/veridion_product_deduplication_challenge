{
 "cells": [
  {
   "cell_type": "code",
   "id": "initial_id",
   "metadata": {
    "collapsed": true,
    "ExecuteTime": {
     "end_time": "2025-03-14T20:01:00.549482Z",
     "start_time": "2025-03-14T20:01:00.380689Z"
    }
   },
   "source": [
    "import pandas as pd\n",
    "import numpy as np\n",
    "\n",
    "from src.path import DataPaths\n",
    "\n",
    "from tools.type_check import print_detailed_info\n",
    "from tools.save_data import export_dataframe\n",
    "\n",
    "\n",
    "df = pd.read_parquet(DataPaths.file_parquet_original)\n",
    "print_detailed_info(df)"
   ],
   "outputs": [
    {
     "name": "stdout",
     "output_type": "stream",
     "text": [
      "Original dataset: 21,946 rows\n",
      "Number of columns in the DataFrame: 31\n",
      "Data columns (total 31 columns):\n",
      " #   Column                               Actual type     Preview\n",
      "---  ------------------------------------ ---------------- --------------------------------------------------\n",
      " 0   unspsc                               str             Sewing and stitchery and weaving equipme...\n",
      " 1   root_domain                          str             studio-atcoat.com\n",
      " 2   page_url                             str             https://studio-atcoat.com/1372696759/?id...\n",
      " 3   product_title                        str             Glimakra Warping Board (8m)\n",
      " 4   product_summary                      str             The Glimakra Warping Board is designed f...\n",
      " 5   product_name                         str             Warping Board\n",
      " 6   product_identifier                   ndarray(0,)     []\n",
      " 7   brand                                str             CST\n",
      " 8   intended_industries                  ndarray(1,)     ['Textile']\n",
      " 9   applicability                        ndarray(1,)     ['use with floor looms']\n",
      " 10  eco_friendly                         bool            True\n",
      " 11  ethical_and_sustainability_practices ndarray(0,)     []\n",
      " 12  production_capacity                  ndarray(0,)     []\n",
      " 13  price                                ndarray(1,)     [{'amount': 159000.0, 'currency': 'KRW',...\n",
      " 14  materials                            ndarray(0,)     []\n",
      " 15  ingredients                          ndarray(0,)     []\n",
      " 16  manufacturing_countries              ndarray(0,)     []\n",
      " 17  manufacturing_year                   int32           -1\n",
      " 18  manufacturing_type                   ndarray(0,)     []\n",
      " 19  customization                        ndarray(0,)     []\n",
      " 20  packaging_type                       ndarray(0,)     []\n",
      " 21  form                                 ndarray(0,)     []\n",
      " 22  size                                 ndarray(1,)     [{'dimension': 'Length', 'qualitative': ...\n",
      " 23  color                                ndarray(0,)     []\n",
      " 24  purity                               ndarray(0,)     []\n",
      " 25  energy_efficiency                    dict            {'exact_percentage': None, 'max_percenta...\n",
      " 26  pressure_rating                      ndarray(0,)     []\n",
      " 27  power_rating                         ndarray(0,)     []\n",
      " 28  quality_standards_and_certifications ndarray(0,)     []\n",
      " 29  miscellaneous_features               ndarray(0,)     []\n",
      " 30  description                          str             The \"Warping Board\" is designed for use ...\n"
     ]
    }
   ],
   "execution_count": 6
  },
  {
   "metadata": {
    "ExecuteTime": {
     "end_time": "2025-03-14T20:01:00.566793Z",
     "start_time": "2025-03-14T20:01:00.552798Z"
    }
   },
   "cell_type": "code",
   "source": [
    "# Get unique types in the column by name\n",
    "unique_types = df['product_identifier'].apply(lambda x: type(x).__name__).unique()\n",
    "print(\"Unique types in product_identifier:\", unique_types)\n",
    "\n",
    "# Count occurrences of each type\n",
    "type_counts = df['product_identifier'].apply(lambda x: type(x).__name__).value_counts()\n",
    "print(\"\\nType counts in product_identifier:\")\n",
    "print(type_counts)\n",
    "\n",
    "# Check the type and content of the first element\n",
    "item_name = df['product_title'].iloc[17]\n",
    "print(item_name)\n",
    "first_item = df['product_identifier'].iloc[17]\n",
    "print(\"Type of the first element:\", type(first_item))\n",
    "print(\"Content of the first element:\", first_item)\n",
    "\n",
    "unique_dtypes = df['product_identifier'].apply(\n",
    "    lambda x: x.dtype if isinstance(x, np.ndarray) else None\n",
    ").unique()\n",
    "print(\"Unique dtypes in product_identifier:\", unique_dtypes)\n",
    "\n",
    "\n",
    "file_path = DataPaths.test_folder\n",
    "file_name = 'parquet_test'\n",
    "\n",
    "\n",
    "# export_dataframe(df, file_path, file_name, file_format='parquet')"
   ],
   "id": "8c07887b5f46b794",
   "outputs": [
    {
     "name": "stdout",
     "output_type": "stream",
     "text": [
      "Unique types in product_identifier: ['ndarray']\n",
      "\n",
      "Type counts in product_identifier:\n",
      "product_identifier\n",
      "ndarray    21946\n",
      "Name: count, dtype: int64\n",
      "AOD, 4R70W, AODE Ford Transmission Direct Clutch Hub 1983-up\n",
      "Type of the first element: <class 'numpy.ndarray'>\n",
      "Content of the first element: ['Part_Number: M76575AA']\n",
      "Unique dtypes in product_identifier: [dtype('O')]\n"
     ]
    }
   ],
   "execution_count": 7
  }
 ],
 "metadata": {
  "kernelspec": {
   "display_name": "Python 3",
   "language": "python",
   "name": "python3"
  },
  "language_info": {
   "codemirror_mode": {
    "name": "ipython",
    "version": 2
   },
   "file_extension": ".py",
   "mimetype": "text/x-python",
   "name": "python",
   "nbconvert_exporter": "python",
   "pygments_lexer": "ipython2",
   "version": "2.7.6"
  }
 },
 "nbformat": 4,
 "nbformat_minor": 5
}
