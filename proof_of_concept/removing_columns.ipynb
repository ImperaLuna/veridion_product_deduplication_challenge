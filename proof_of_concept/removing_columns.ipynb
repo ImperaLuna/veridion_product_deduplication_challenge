{
 "cells": [
  {
   "cell_type": "code",
   "id": "initial_id",
   "metadata": {
    "collapsed": true,
    "ExecuteTime": {
     "end_time": "2025-03-15T04:36:40.051242Z",
     "start_time": "2025-03-15T04:36:38.955270Z"
    }
   },
   "source": [
    "import pandas as pd\n",
    "import numpy as np\n",
    "\n",
    "from src.path import DataPaths\n",
    "from src.merge import merge_dataframe_rows\n",
    "\n",
    "from tools.type_check import print_detailed_info\n",
    "from tools.save_data import export_dataframe\n",
    "\n",
    "from sklearn.feature_extraction.text import CountVectorizer\n",
    "from sklearn.metrics.pairwise import cosine_similarity\n",
    "\n",
    "\n",
    "df = pd.read_parquet(DataPaths.file_parquet_clean)\n",
    "print_detailed_info(df)"
   ],
   "outputs": [
    {
     "name": "stdout",
     "output_type": "stream",
     "text": [
      "Original dataset: 21,946 rows\n",
      "Number of columns in the DataFrame: 31\n",
      "Data columns (total 31 columns):\n",
      " #   Column                               Actual type     Preview\n",
      "---  ------------------------------------ ---------------- --------------------------------------------------\n",
      " 0   unspsc                               str             Sewing and stitchery and weaving equipme...\n",
      " 1   root_domain                          str             studio-atcoat.com\n",
      " 2   page_url                             str             https://studio-atcoat.com/1372696759/?id...\n",
      " 3   product_title                        str             Glimakra Warping Board (8m)\n",
      " 4   product_summary                      str             The Glimakra Warping Board is designed f...\n",
      " 5   product_name                         str             Warping Board\n",
      " 6   product_identifier                   ndarray(0,)     []\n",
      " 7   brand                                str             CST\n",
      " 8   intended_industries                  ndarray(1,)     ['Textile']\n",
      " 9   applicability                        ndarray(1,)     ['use with floor looms']\n",
      " 10  eco_friendly                         bool            True\n",
      " 11  ethical_and_sustainability_practices ndarray(0,)     []\n",
      " 12  production_capacity                  ndarray(0,)     []\n",
      " 13  price                                ndarray(1,)     [{'amount': 159000.0, 'currency': 'KRW',...\n",
      " 14  materials                            ndarray(0,)     []\n",
      " 15  ingredients                          ndarray(0,)     []\n",
      " 16  manufacturing_countries              ndarray(0,)     []\n",
      " 17  manufacturing_year                   int32           -1\n",
      " 18  manufacturing_type                   ndarray(0,)     []\n",
      " 19  customization                        ndarray(0,)     []\n",
      " 20  packaging_type                       ndarray(0,)     []\n",
      " 21  form                                 ndarray(0,)     []\n",
      " 22  size                                 ndarray(1,)     [{'dimension': 'Length', 'qualitative': ...\n",
      " 23  color                                ndarray(0,)     []\n",
      " 24  purity                               ndarray(0,)     []\n",
      " 25  energy_efficiency                    ndarray(0,)     []\n",
      " 26  pressure_rating                      ndarray(0,)     []\n",
      " 27  power_rating                         ndarray(0,)     []\n",
      " 28  quality_standards_and_certifications ndarray(0,)     []\n",
      " 29  miscellaneous_features               ndarray(0,)     []\n",
      " 30  description                          str             The \"Warping Board\" is designed for use ...\n"
     ]
    }
   ],
   "execution_count": 1
  },
  {
   "metadata": {
    "ExecuteTime": {
     "end_time": "2025-03-15T04:36:40.068525Z",
     "start_time": "2025-03-15T04:36:40.057784Z"
    }
   },
   "cell_type": "code",
   "source": [
    "df_copy = df[['product_title', 'product_summary', 'description']]\n",
    "df_copy.head(10)"
   ],
   "id": "1b77572cdd25e356",
   "outputs": [
    {
     "data": {
      "text/plain": [
       "                                       product_title  \\\n",
       "0                        Glimakra Warping Board (8m)   \n",
       "1                            NMRV Worm Gearbox Motor   \n",
       "2                           Nissan R33 GTR Car Cover   \n",
       "3                                  Flexible Fittings   \n",
       "4                   CST-HGD-33103 Hinged Closet Door   \n",
       "5                                       Deep Faucets   \n",
       "6               10K Dry Shut-Off Gun Handle Assembly   \n",
       "7                             Cranberry Cart Systems   \n",
       "8                       10K Air Operated Control Gun   \n",
       "9  5 THINGS YOU SHOULD KNOW ABOUT MY NURSE PRACTI...   \n",
       "\n",
       "                                     product_summary  \\\n",
       "0  The Glimakra Warping Board is designed for use...   \n",
       "1  The NMRV Worm Gearbox Motor is a high-efficien...   \n",
       "2  A custom car cover designed for the Nissan R33...   \n",
       "3  Flexible fittings for plumbing applications, a...   \n",
       "4  The CST-HGD-33103 Hinged Closet Door is a meti...   \n",
       "5  Faucets with a deep design, providing a secure...   \n",
       "6  The 10K Dry Shut-Off Gun Handle Assembly is a ...   \n",
       "7  Cranberry Cart Systems are part of the Armstro...   \n",
       "8  An air operated control gun designed for water...   \n",
       "9  A long sleeve tee with the message '5 THINGS Y...   \n",
       "\n",
       "                                         description  \n",
       "0  The \"Warping Board\" is designed for use with f...  \n",
       "1  The \"Worm Gearbox Motor\" is a high-efficiency ...  \n",
       "2  The \"Car Cover\" is a custom-designed cover tai...  \n",
       "3  \"Flexible Fittings\" are designed for plumbing ...  \n",
       "4  The \"Hinged Closet Door\" is a storage solution...  \n",
       "5  \"Deep Faucets\" are designed with a deep design...  \n",
       "6  The \"Dry Shut-Off Gun Handle Assembly\" is a co...  \n",
       "7  \"Cranberry Cart Systems\" from the Armstrong Me...  \n",
       "8  The \"Air Operated Control Gun\" is designed for...  \n",
       "9  The \"Long Sleeve Tee\" is a long sleeve t-shirt...  "
      ],
      "text/html": [
       "<div>\n",
       "<style scoped>\n",
       "    .dataframe tbody tr th:only-of-type {\n",
       "        vertical-align: middle;\n",
       "    }\n",
       "\n",
       "    .dataframe tbody tr th {\n",
       "        vertical-align: top;\n",
       "    }\n",
       "\n",
       "    .dataframe thead th {\n",
       "        text-align: right;\n",
       "    }\n",
       "</style>\n",
       "<table border=\"1\" class=\"dataframe\">\n",
       "  <thead>\n",
       "    <tr style=\"text-align: right;\">\n",
       "      <th></th>\n",
       "      <th>product_title</th>\n",
       "      <th>product_summary</th>\n",
       "      <th>description</th>\n",
       "    </tr>\n",
       "  </thead>\n",
       "  <tbody>\n",
       "    <tr>\n",
       "      <th>0</th>\n",
       "      <td>Glimakra Warping Board (8m)</td>\n",
       "      <td>The Glimakra Warping Board is designed for use...</td>\n",
       "      <td>The \"Warping Board\" is designed for use with f...</td>\n",
       "    </tr>\n",
       "    <tr>\n",
       "      <th>1</th>\n",
       "      <td>NMRV Worm Gearbox Motor</td>\n",
       "      <td>The NMRV Worm Gearbox Motor is a high-efficien...</td>\n",
       "      <td>The \"Worm Gearbox Motor\" is a high-efficiency ...</td>\n",
       "    </tr>\n",
       "    <tr>\n",
       "      <th>2</th>\n",
       "      <td>Nissan R33 GTR Car Cover</td>\n",
       "      <td>A custom car cover designed for the Nissan R33...</td>\n",
       "      <td>The \"Car Cover\" is a custom-designed cover tai...</td>\n",
       "    </tr>\n",
       "    <tr>\n",
       "      <th>3</th>\n",
       "      <td>Flexible Fittings</td>\n",
       "      <td>Flexible fittings for plumbing applications, a...</td>\n",
       "      <td>\"Flexible Fittings\" are designed for plumbing ...</td>\n",
       "    </tr>\n",
       "    <tr>\n",
       "      <th>4</th>\n",
       "      <td>CST-HGD-33103 Hinged Closet Door</td>\n",
       "      <td>The CST-HGD-33103 Hinged Closet Door is a meti...</td>\n",
       "      <td>The \"Hinged Closet Door\" is a storage solution...</td>\n",
       "    </tr>\n",
       "    <tr>\n",
       "      <th>5</th>\n",
       "      <td>Deep Faucets</td>\n",
       "      <td>Faucets with a deep design, providing a secure...</td>\n",
       "      <td>\"Deep Faucets\" are designed with a deep design...</td>\n",
       "    </tr>\n",
       "    <tr>\n",
       "      <th>6</th>\n",
       "      <td>10K Dry Shut-Off Gun Handle Assembly</td>\n",
       "      <td>The 10K Dry Shut-Off Gun Handle Assembly is a ...</td>\n",
       "      <td>The \"Dry Shut-Off Gun Handle Assembly\" is a co...</td>\n",
       "    </tr>\n",
       "    <tr>\n",
       "      <th>7</th>\n",
       "      <td>Cranberry Cart Systems</td>\n",
       "      <td>Cranberry Cart Systems are part of the Armstro...</td>\n",
       "      <td>\"Cranberry Cart Systems\" from the Armstrong Me...</td>\n",
       "    </tr>\n",
       "    <tr>\n",
       "      <th>8</th>\n",
       "      <td>10K Air Operated Control Gun</td>\n",
       "      <td>An air operated control gun designed for water...</td>\n",
       "      <td>The \"Air Operated Control Gun\" is designed for...</td>\n",
       "    </tr>\n",
       "    <tr>\n",
       "      <th>9</th>\n",
       "      <td>5 THINGS YOU SHOULD KNOW ABOUT MY NURSE PRACTI...</td>\n",
       "      <td>A long sleeve tee with the message '5 THINGS Y...</td>\n",
       "      <td>The \"Long Sleeve Tee\" is a long sleeve t-shirt...</td>\n",
       "    </tr>\n",
       "  </tbody>\n",
       "</table>\n",
       "</div>"
      ]
     },
     "execution_count": 2,
     "metadata": {},
     "output_type": "execute_result"
    }
   ],
   "execution_count": 2
  },
  {
   "metadata": {
    "ExecuteTime": {
     "end_time": "2025-03-15T04:36:49.028844Z",
     "start_time": "2025-03-15T04:36:40.215146Z"
    }
   },
   "cell_type": "code",
   "source": [
    "def calculate_similarity_scores(df, method='cosine'):\n",
    "    \"\"\"\n",
    "    Calculate similarity scores between product_summary and description columns.\n",
    "\n",
    "    Parameters:\n",
    "    df (pandas.DataFrame): DataFrame containing 'product_summary' and 'description' columns\n",
    "    method (str): Similarity method to use ('cosine', 'jaccard', 'sequence')\n",
    "\n",
    "    Returns:\n",
    "    pandas.DataFrame: Original DataFrame with an additional 'similarity_score' column\n",
    "    \"\"\"\n",
    "    result_df = df.copy()\n",
    "\n",
    "    # Ensure both columns are strings\n",
    "    result_df['product_summary'] = result_df['product_summary'].fillna('').astype(str)\n",
    "    result_df['description'] = result_df['description'].fillna('').astype(str)\n",
    "\n",
    "    similarity_scores = []\n",
    "\n",
    "    if method == 'cosine':\n",
    "        # Cosine similarity method\n",
    "        for _, row in result_df.iterrows():\n",
    "            if not row['product_summary'] or not row['description']:\n",
    "                similarity_scores.append(0.0)\n",
    "                continue\n",
    "\n",
    "            # Create vectors\n",
    "            vectorizer = CountVectorizer().fit_transform([row['product_summary'], row['description']])\n",
    "            vectors = vectorizer.toarray()\n",
    "\n",
    "            # Calculate cosine similarity\n",
    "            if vectors.shape[0] < 2 or vectors[0].sum() == 0 or vectors[1].sum() == 0:\n",
    "                similarity_scores.append(0.0)\n",
    "            else:\n",
    "                similarity = cosine_similarity([vectors[0]], [vectors[1]])[0][0]\n",
    "                similarity_scores.append(similarity)\n",
    "\n",
    "    # Convert similarity to percentage\n",
    "    result_df['similarity_percentage'] = [round(score * 100, 2) for score in similarity_scores]\n",
    "\n",
    "    return result_df\n",
    "\n",
    "# Assuming your dataframe with the three columns is named 'product_df'\n",
    "result_df = calculate_similarity_scores(df, method='cosine')\n",
    "average_similarity = result_df['similarity_percentage'].mean()\n",
    "# Display the results\n",
    "print(f\"Average similarity between product summaries and descriptions: {average_similarity:.2f}%\")"
   ],
   "id": "332c3e3b4ebccfc0",
   "outputs": [
    {
     "name": "stdout",
     "output_type": "stream",
     "text": [
      "Average similarity between product summaries and descriptions: 69.51%\n"
     ]
    }
   ],
   "execution_count": 3
  },
  {
   "metadata": {
    "ExecuteTime": {
     "end_time": "2025-03-15T04:36:49.053805Z",
     "start_time": "2025-03-15T04:36:49.047861Z"
    }
   },
   "cell_type": "code",
   "source": [
    "df_copy = df[['product_title', 'product_name']]\n",
    "df_copy.head(10)"
   ],
   "id": "1d5ab601be009c1e",
   "outputs": [
    {
     "data": {
      "text/plain": [
       "                                       product_title  \\\n",
       "0                        Glimakra Warping Board (8m)   \n",
       "1                            NMRV Worm Gearbox Motor   \n",
       "2                           Nissan R33 GTR Car Cover   \n",
       "3                                  Flexible Fittings   \n",
       "4                   CST-HGD-33103 Hinged Closet Door   \n",
       "5                                       Deep Faucets   \n",
       "6               10K Dry Shut-Off Gun Handle Assembly   \n",
       "7                             Cranberry Cart Systems   \n",
       "8                       10K Air Operated Control Gun   \n",
       "9  5 THINGS YOU SHOULD KNOW ABOUT MY NURSE PRACTI...   \n",
       "\n",
       "                       product_name  \n",
       "0                     Warping Board  \n",
       "1                Worm Gearbox Motor  \n",
       "2                         Car Cover  \n",
       "3                 Flexible Fittings  \n",
       "4                Hinged Closet Door  \n",
       "5                      Deep Faucets  \n",
       "6  Dry Shut-Off Gun Handle Assembly  \n",
       "7            Cranberry Cart Systems  \n",
       "8          Air Operated Control Gun  \n",
       "9                   Long Sleeve Tee  "
      ],
      "text/html": [
       "<div>\n",
       "<style scoped>\n",
       "    .dataframe tbody tr th:only-of-type {\n",
       "        vertical-align: middle;\n",
       "    }\n",
       "\n",
       "    .dataframe tbody tr th {\n",
       "        vertical-align: top;\n",
       "    }\n",
       "\n",
       "    .dataframe thead th {\n",
       "        text-align: right;\n",
       "    }\n",
       "</style>\n",
       "<table border=\"1\" class=\"dataframe\">\n",
       "  <thead>\n",
       "    <tr style=\"text-align: right;\">\n",
       "      <th></th>\n",
       "      <th>product_title</th>\n",
       "      <th>product_name</th>\n",
       "    </tr>\n",
       "  </thead>\n",
       "  <tbody>\n",
       "    <tr>\n",
       "      <th>0</th>\n",
       "      <td>Glimakra Warping Board (8m)</td>\n",
       "      <td>Warping Board</td>\n",
       "    </tr>\n",
       "    <tr>\n",
       "      <th>1</th>\n",
       "      <td>NMRV Worm Gearbox Motor</td>\n",
       "      <td>Worm Gearbox Motor</td>\n",
       "    </tr>\n",
       "    <tr>\n",
       "      <th>2</th>\n",
       "      <td>Nissan R33 GTR Car Cover</td>\n",
       "      <td>Car Cover</td>\n",
       "    </tr>\n",
       "    <tr>\n",
       "      <th>3</th>\n",
       "      <td>Flexible Fittings</td>\n",
       "      <td>Flexible Fittings</td>\n",
       "    </tr>\n",
       "    <tr>\n",
       "      <th>4</th>\n",
       "      <td>CST-HGD-33103 Hinged Closet Door</td>\n",
       "      <td>Hinged Closet Door</td>\n",
       "    </tr>\n",
       "    <tr>\n",
       "      <th>5</th>\n",
       "      <td>Deep Faucets</td>\n",
       "      <td>Deep Faucets</td>\n",
       "    </tr>\n",
       "    <tr>\n",
       "      <th>6</th>\n",
       "      <td>10K Dry Shut-Off Gun Handle Assembly</td>\n",
       "      <td>Dry Shut-Off Gun Handle Assembly</td>\n",
       "    </tr>\n",
       "    <tr>\n",
       "      <th>7</th>\n",
       "      <td>Cranberry Cart Systems</td>\n",
       "      <td>Cranberry Cart Systems</td>\n",
       "    </tr>\n",
       "    <tr>\n",
       "      <th>8</th>\n",
       "      <td>10K Air Operated Control Gun</td>\n",
       "      <td>Air Operated Control Gun</td>\n",
       "    </tr>\n",
       "    <tr>\n",
       "      <th>9</th>\n",
       "      <td>5 THINGS YOU SHOULD KNOW ABOUT MY NURSE PRACTI...</td>\n",
       "      <td>Long Sleeve Tee</td>\n",
       "    </tr>\n",
       "  </tbody>\n",
       "</table>\n",
       "</div>"
      ]
     },
     "execution_count": 4,
     "metadata": {},
     "output_type": "execute_result"
    }
   ],
   "execution_count": 4
  },
  {
   "metadata": {
    "ExecuteTime": {
     "end_time": "2025-03-15T04:37:05.338106Z",
     "start_time": "2025-03-15T04:36:49.077263Z"
    }
   },
   "cell_type": "code",
   "source": [
    "def calculate_title_name_similarity(df):\n",
    "    \"\"\"\n",
    "    Calculate cosine similarity between product_title and product_name columns.\n",
    "\n",
    "    Parameters:\n",
    "    df (pandas.DataFrame): DataFrame containing 'product_title' and 'product_name' columns\n",
    "\n",
    "    Returns:\n",
    "    pandas.DataFrame: Original DataFrame with an additional 'similarity_percentage' column\n",
    "    \"\"\"\n",
    "    result_df = df.copy()\n",
    "\n",
    "    # Ensure both columns are strings\n",
    "    result_df['product_title'] = result_df['product_title'].fillna('').astype(str)\n",
    "    result_df['product_name'] = result_df['product_name'].fillna('').astype(str)\n",
    "\n",
    "    similarity_scores = []\n",
    "\n",
    "    for _, row in result_df.iterrows():\n",
    "        if not row['product_title'] or not row['product_name']:\n",
    "            similarity_scores.append(0.0)\n",
    "            continue\n",
    "\n",
    "        # Create vectors\n",
    "        vectorizer = CountVectorizer().fit_transform([row['product_title'], row['product_name']])\n",
    "        vectors = vectorizer.toarray()\n",
    "\n",
    "        # Calculate cosine similarity\n",
    "        if vectors.shape[0] < 2 or vectors[0].sum() == 0 or vectors[1].sum() == 0:\n",
    "            similarity_scores.append(0.0)\n",
    "        else:\n",
    "            similarity = cosine_similarity([vectors[0]], [vectors[1]])[0][0]\n",
    "            similarity_scores.append(similarity)\n",
    "\n",
    "    # Convert similarity to percentage\n",
    "    result_df['similarity_percentage'] = [round(score * 100, 2) for score in similarity_scores]\n",
    "\n",
    "    # Calculate the average similarity\n",
    "    average_similarity = result_df['similarity_percentage'].mean()\n",
    "    print(f\"Average similarity between product_title and product_name: {average_similarity:.2f}%\")\n",
    "\n",
    "    return result_df\n",
    "\n",
    "# Example usage:\n",
    "df_with_similarity = calculate_title_name_similarity(df_copy)\n",
    "\n",
    "result_df = calculate_title_name_similarity(df)\n",
    "average_similarity = result_df['similarity_percentage'].mean()\n",
    "# Display the results\n",
    "print(f\"Average similarity between product summaries and descriptions: {average_similarity:.2f}%\")"
   ],
   "id": "5511ce54fc9a31fe",
   "outputs": [
    {
     "name": "stdout",
     "output_type": "stream",
     "text": [
      "Average similarity between product_title and product_name: 71.54%\n",
      "Average similarity between product_title and product_name: 71.54%\n",
      "Average similarity between product summaries and descriptions: 71.54%\n"
     ]
    }
   ],
   "execution_count": 5
  },
  {
   "metadata": {
    "ExecuteTime": {
     "end_time": "2025-03-15T04:37:05.359327Z",
     "start_time": "2025-03-15T04:37:05.355264Z"
    }
   },
   "cell_type": "code",
   "source": [
    "# Filter rows where manufacturing_year is not -1\n",
    "other_values = df[df['manufacturing_year'] != -1]\n",
    "\n",
    "# Display the results\n",
    "print(f\"Number of rows where manufacturing_year is not -1: {len(other_values)}\")\n",
    "\n",
    "if len(other_values) > 0:\n",
    "    # See what other values exist\n",
    "    unique_years = other_values['manufacturing_year'].unique()\n",
    "    print(f\"Unique manufacturing year values other than -1: {unique_years}\")\n",
    "\n",
    "    # Optional: Show the distribution of these values\n",
    "    year_counts = other_values['manufacturing_year'].value_counts().sort_index()\n",
    "    print(\"\\nDistribution of manufacturing years:\")\n",
    "    print(year_counts)\n",
    "else:\n",
    "    print(\"All manufacturing_year values are -1\")"
   ],
   "id": "2cc92b42ad8d23f",
   "outputs": [
    {
     "name": "stdout",
     "output_type": "stream",
     "text": [
      "Number of rows where manufacturing_year is not -1: 0\n",
      "All manufacturing_year values are -1\n"
     ]
    }
   ],
   "execution_count": 6
  },
  {
   "metadata": {
    "ExecuteTime": {
     "end_time": "2025-03-15T04:37:05.412205Z",
     "start_time": "2025-03-15T04:37:05.378732Z"
    }
   },
   "cell_type": "code",
   "source": "print_detailed_info(df)",
   "id": "d1c239249ccf81ba",
   "outputs": [
    {
     "name": "stdout",
     "output_type": "stream",
     "text": [
      "Original dataset: 21,946 rows\n",
      "Number of columns in the DataFrame: 31\n",
      "Data columns (total 31 columns):\n",
      " #   Column                               Actual type     Preview\n",
      "---  ------------------------------------ ---------------- --------------------------------------------------\n",
      " 0   unspsc                               str             Sewing and stitchery and weaving equipme...\n",
      " 1   root_domain                          str             studio-atcoat.com\n",
      " 2   page_url                             str             https://studio-atcoat.com/1372696759/?id...\n",
      " 3   product_title                        str             Glimakra Warping Board (8m)\n",
      " 4   product_summary                      str             The Glimakra Warping Board is designed f...\n",
      " 5   product_name                         str             Warping Board\n",
      " 6   product_identifier                   ndarray(0,)     []\n",
      " 7   brand                                str             CST\n",
      " 8   intended_industries                  ndarray(1,)     ['Textile']\n",
      " 9   applicability                        ndarray(1,)     ['use with floor looms']\n",
      " 10  eco_friendly                         bool            True\n",
      " 11  ethical_and_sustainability_practices ndarray(0,)     []\n",
      " 12  production_capacity                  ndarray(0,)     []\n",
      " 13  price                                ndarray(1,)     [{'amount': 159000.0, 'currency': 'KRW',...\n",
      " 14  materials                            ndarray(0,)     []\n",
      " 15  ingredients                          ndarray(0,)     []\n",
      " 16  manufacturing_countries              ndarray(0,)     []\n",
      " 17  manufacturing_year                   int32           -1\n",
      " 18  manufacturing_type                   ndarray(0,)     []\n",
      " 19  customization                        ndarray(0,)     []\n",
      " 20  packaging_type                       ndarray(0,)     []\n",
      " 21  form                                 ndarray(0,)     []\n",
      " 22  size                                 ndarray(1,)     [{'dimension': 'Length', 'qualitative': ...\n",
      " 23  color                                ndarray(0,)     []\n",
      " 24  purity                               ndarray(0,)     []\n",
      " 25  energy_efficiency                    ndarray(0,)     []\n",
      " 26  pressure_rating                      ndarray(0,)     []\n",
      " 27  power_rating                         ndarray(0,)     []\n",
      " 28  quality_standards_and_certifications ndarray(0,)     []\n",
      " 29  miscellaneous_features               ndarray(0,)     []\n",
      " 30  description                          str             The \"Warping Board\" is designed for use ...\n"
     ]
    }
   ],
   "execution_count": 7
  },
  {
   "metadata": {
    "ExecuteTime": {
     "end_time": "2025-03-15T04:37:05.422080Z",
     "start_time": "2025-03-15T04:37:05.417842Z"
    }
   },
   "cell_type": "code",
   "source": [
    "import pandas as pd\n",
    "import numpy as np\n",
    "\n",
    "def merge_and_drop_descriptions(df):\n",
    "    \"\"\"\n",
    "    Merges product_summary and description columns using vectorized operations.\n",
    "    Keeps the longest string between the two columns and drops the original columns.\n",
    "\n",
    "    Parameters:\n",
    "    df (pandas.DataFrame): DataFrame containing product_summary and description columns\n",
    "\n",
    "    Returns:\n",
    "    pandas.DataFrame: DataFrame with merged_description column, original columns dropped\n",
    "    \"\"\"\n",
    "    # Create a copy to avoid modifying the original\n",
    "    result = df.copy()\n",
    "\n",
    "    # Fill NaN values with empty strings\n",
    "    summary = result['product_summary'].fillna('').astype(str)\n",
    "    description = result['description'].fillna('').astype(str)\n",
    "\n",
    "    # Calculate lengths of both columns\n",
    "    summary_len = summary.str.len()\n",
    "    description_len = description.str.len()\n",
    "\n",
    "    # Create mask for selecting the longest string\n",
    "    use_summary = (summary_len >= description_len) & (summary_len > 0)\n",
    "\n",
    "    # Apply the mask to create the merged column\n",
    "    result['merged_description'] = np.where(\n",
    "        use_summary,\n",
    "        summary,\n",
    "        np.where(description_len > 0, description, None)\n",
    "    )\n",
    "\n",
    "    # Drop the original columns\n",
    "    result = result.drop(['product_summary', 'description'], axis=1)\n",
    "\n",
    "    return result\n"
   ],
   "id": "18fb9561943789d7",
   "outputs": [],
   "execution_count": 8
  },
  {
   "metadata": {
    "ExecuteTime": {
     "end_time": "2025-03-15T04:37:05.489413Z",
     "start_time": "2025-03-15T04:37:05.433414Z"
    }
   },
   "cell_type": "code",
   "source": [
    "df_merged = merge_and_drop_descriptions(df)\n",
    "print_detailed_info(df_merged)"
   ],
   "id": "8189846250956816",
   "outputs": [
    {
     "name": "stdout",
     "output_type": "stream",
     "text": [
      "Original dataset: 21,946 rows\n",
      "Number of columns in the DataFrame: 30\n",
      "Data columns (total 30 columns):\n",
      " #   Column                               Actual type     Preview\n",
      "---  ------------------------------------ ---------------- --------------------------------------------------\n",
      " 0   unspsc                               str             Sewing and stitchery and weaving equipme...\n",
      " 1   root_domain                          str             studio-atcoat.com\n",
      " 2   page_url                             str             https://studio-atcoat.com/1372696759/?id...\n",
      " 3   product_title                        str             Glimakra Warping Board (8m)\n",
      " 4   product_name                         str             Warping Board\n",
      " 5   product_identifier                   ndarray(0,)     []\n",
      " 6   brand                                str             CST\n",
      " 7   intended_industries                  ndarray(1,)     ['Textile']\n",
      " 8   applicability                        ndarray(1,)     ['use with floor looms']\n",
      " 9   eco_friendly                         bool            True\n",
      " 10  ethical_and_sustainability_practices ndarray(0,)     []\n",
      " 11  production_capacity                  ndarray(0,)     []\n",
      " 12  price                                ndarray(1,)     [{'amount': 159000.0, 'currency': 'KRW',...\n",
      " 13  materials                            ndarray(0,)     []\n",
      " 14  ingredients                          ndarray(0,)     []\n",
      " 15  manufacturing_countries              ndarray(0,)     []\n",
      " 16  manufacturing_year                   int32           -1\n",
      " 17  manufacturing_type                   ndarray(0,)     []\n",
      " 18  customization                        ndarray(0,)     []\n",
      " 19  packaging_type                       ndarray(0,)     []\n",
      " 20  form                                 ndarray(0,)     []\n",
      " 21  size                                 ndarray(1,)     [{'dimension': 'Length', 'qualitative': ...\n",
      " 22  color                                ndarray(0,)     []\n",
      " 23  purity                               ndarray(0,)     []\n",
      " 24  energy_efficiency                    ndarray(0,)     []\n",
      " 25  pressure_rating                      ndarray(0,)     []\n",
      " 26  power_rating                         ndarray(0,)     []\n",
      " 27  quality_standards_and_certifications ndarray(0,)     []\n",
      " 28  miscellaneous_features               ndarray(0,)     []\n",
      " 29  merged_description                   str             The Glimakra Warping Board is designed f...\n"
     ]
    }
   ],
   "execution_count": 9
  },
  {
   "metadata": {
    "ExecuteTime": {
     "end_time": "2025-03-15T04:37:05.544834Z",
     "start_time": "2025-03-15T04:37:05.503223Z"
    }
   },
   "cell_type": "code",
   "source": [
    "df_merged = df_merged.drop('product_name', axis=1)\n",
    "print_detailed_info(df_merged)"
   ],
   "id": "f51385a5aa31327b",
   "outputs": [
    {
     "name": "stdout",
     "output_type": "stream",
     "text": [
      "Original dataset: 21,946 rows\n",
      "Number of columns in the DataFrame: 29\n",
      "Data columns (total 29 columns):\n",
      " #   Column                               Actual type     Preview\n",
      "---  ------------------------------------ ---------------- --------------------------------------------------\n",
      " 0   unspsc                               str             Sewing and stitchery and weaving equipme...\n",
      " 1   root_domain                          str             studio-atcoat.com\n",
      " 2   page_url                             str             https://studio-atcoat.com/1372696759/?id...\n",
      " 3   product_title                        str             Glimakra Warping Board (8m)\n",
      " 4   product_identifier                   ndarray(0,)     []\n",
      " 5   brand                                str             CST\n",
      " 6   intended_industries                  ndarray(1,)     ['Textile']\n",
      " 7   applicability                        ndarray(1,)     ['use with floor looms']\n",
      " 8   eco_friendly                         bool            True\n",
      " 9   ethical_and_sustainability_practices ndarray(0,)     []\n",
      " 10  production_capacity                  ndarray(0,)     []\n",
      " 11  price                                ndarray(1,)     [{'amount': 159000.0, 'currency': 'KRW',...\n",
      " 12  materials                            ndarray(0,)     []\n",
      " 13  ingredients                          ndarray(0,)     []\n",
      " 14  manufacturing_countries              ndarray(0,)     []\n",
      " 15  manufacturing_year                   int32           -1\n",
      " 16  manufacturing_type                   ndarray(0,)     []\n",
      " 17  customization                        ndarray(0,)     []\n",
      " 18  packaging_type                       ndarray(0,)     []\n",
      " 19  form                                 ndarray(0,)     []\n",
      " 20  size                                 ndarray(1,)     [{'dimension': 'Length', 'qualitative': ...\n",
      " 21  color                                ndarray(0,)     []\n",
      " 22  purity                               ndarray(0,)     []\n",
      " 23  energy_efficiency                    ndarray(0,)     []\n",
      " 24  pressure_rating                      ndarray(0,)     []\n",
      " 25  power_rating                         ndarray(0,)     []\n",
      " 26  quality_standards_and_certifications ndarray(0,)     []\n",
      " 27  miscellaneous_features               ndarray(0,)     []\n",
      " 28  merged_description                   str             The Glimakra Warping Board is designed f...\n"
     ]
    }
   ],
   "execution_count": 10
  },
  {
   "metadata": {
    "ExecuteTime": {
     "end_time": "2025-03-15T04:37:05.684891Z",
     "start_time": "2025-03-15T04:37:05.644909Z"
    }
   },
   "cell_type": "code",
   "source": [
    "df_merged = df_merged.drop('manufacturing_year', axis=1)\n",
    "print_detailed_info(df_merged)"
   ],
   "id": "98c107107db2fc62",
   "outputs": [
    {
     "name": "stdout",
     "output_type": "stream",
     "text": [
      "Original dataset: 21,946 rows\n",
      "Number of columns in the DataFrame: 28\n",
      "Data columns (total 28 columns):\n",
      " #   Column                               Actual type     Preview\n",
      "---  ------------------------------------ ---------------- --------------------------------------------------\n",
      " 0   unspsc                               str             Sewing and stitchery and weaving equipme...\n",
      " 1   root_domain                          str             studio-atcoat.com\n",
      " 2   page_url                             str             https://studio-atcoat.com/1372696759/?id...\n",
      " 3   product_title                        str             Glimakra Warping Board (8m)\n",
      " 4   product_identifier                   ndarray(0,)     []\n",
      " 5   brand                                str             CST\n",
      " 6   intended_industries                  ndarray(1,)     ['Textile']\n",
      " 7   applicability                        ndarray(1,)     ['use with floor looms']\n",
      " 8   eco_friendly                         bool            True\n",
      " 9   ethical_and_sustainability_practices ndarray(0,)     []\n",
      " 10  production_capacity                  ndarray(0,)     []\n",
      " 11  price                                ndarray(1,)     [{'amount': 159000.0, 'currency': 'KRW',...\n",
      " 12  materials                            ndarray(0,)     []\n",
      " 13  ingredients                          ndarray(0,)     []\n",
      " 14  manufacturing_countries              ndarray(0,)     []\n",
      " 15  manufacturing_type                   ndarray(0,)     []\n",
      " 16  customization                        ndarray(0,)     []\n",
      " 17  packaging_type                       ndarray(0,)     []\n",
      " 18  form                                 ndarray(0,)     []\n",
      " 19  size                                 ndarray(1,)     [{'dimension': 'Length', 'qualitative': ...\n",
      " 20  color                                ndarray(0,)     []\n",
      " 21  purity                               ndarray(0,)     []\n",
      " 22  energy_efficiency                    ndarray(0,)     []\n",
      " 23  pressure_rating                      ndarray(0,)     []\n",
      " 24  power_rating                         ndarray(0,)     []\n",
      " 25  quality_standards_and_certifications ndarray(0,)     []\n",
      " 26  miscellaneous_features               ndarray(0,)     []\n",
      " 27  merged_description                   str             The Glimakra Warping Board is designed f...\n"
     ]
    }
   ],
   "execution_count": 11
  },
  {
   "metadata": {
    "ExecuteTime": {
     "end_time": "2025-03-15T04:37:07.672420Z",
     "start_time": "2025-03-15T04:37:05.698313Z"
    }
   },
   "cell_type": "code",
   "source": [
    "export_dataframe(df_merged, DataPaths.test_folder, \"test_merged_columns\", file_format='csv')\n",
    "export_dataframe(df_merged, DataPaths.test_folder, \"test_merged_columns\", file_format='parquet')"
   ],
   "id": "5eec9a54864e5c0",
   "outputs": [
    {
     "name": "stdout",
     "output_type": "stream",
     "text": [
      "Exported data to: E:\\veridion_deduplication\\data\\test\\test_merged_columns.csv\n",
      "Exported data to: E:\\veridion_deduplication\\data\\test\\test_merged_columns.snappy.parquet\n"
     ]
    },
    {
     "data": {
      "text/plain": [
       "WindowsPath('E:/veridion_deduplication/data/test/test_merged_columns.snappy.parquet')"
      ]
     },
     "execution_count": 12,
     "metadata": {},
     "output_type": "execute_result"
    }
   ],
   "execution_count": 12
  }
 ],
 "metadata": {
  "kernelspec": {
   "display_name": "Python 3",
   "language": "python",
   "name": "python3"
  },
  "language_info": {
   "codemirror_mode": {
    "name": "ipython",
    "version": 2
   },
   "file_extension": ".py",
   "mimetype": "text/x-python",
   "name": "python",
   "nbconvert_exporter": "python",
   "pygments_lexer": "ipython2",
   "version": "2.7.6"
  }
 },
 "nbformat": 4,
 "nbformat_minor": 5
}
